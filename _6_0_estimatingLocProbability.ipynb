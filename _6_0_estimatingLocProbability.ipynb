{
 "cells": [
  {
   "cell_type": "markdown",
   "id": "eac32f31",
   "metadata": {},
   "source": [
    "# Estimating the probability of each location type/activity category for each OD zone:"
   ]
  },
  {
   "cell_type": "markdown",
   "id": "a0a0336d",
   "metadata": {},
   "source": [
    "#### adding required packages"
   ]
  },
  {
   "cell_type": "code",
   "execution_count": 39,
   "id": "3c57d354",
   "metadata": {},
   "outputs": [
    {
     "name": "stderr",
     "output_type": "stream",
     "text": [
      "Loading required package: rstan\n",
      "Warning message:\n",
      "\"package 'rstan' was built under R version 3.6.3\"Error: package or namespace load failed for 'rstan' in loadNamespace(j <- i[[1L]], c(lib.loc, .libPaths()), versionCheck = vI[[j]]):\n",
      " there is no package called 'gridExtra'\n"
     ]
    },
    {
     "ename": "ERROR",
     "evalue": "Error: package 'rstan' could not be loaded\n",
     "output_type": "error",
     "traceback": [
      "Error: package 'rstan' could not be loaded\nTraceback:\n",
      "1. library(rethinking)",
      "2. .getRequiredPackages2(pkgInfo, quietly = quietly)",
      "3. stop(gettextf(\"package %s could not be loaded\", sQuote(pkg)), \n .     call. = FALSE, domain = NA)"
     ]
    }
   ],
   "source": [
    "rm(list = ls())\n",
    "library(rethinking)\n",
    "library(gtools) \n",
    "# remove.packages(\"rstan\")\n",
    "# install.packages(\"rstan\")\n",
    "# library(rstan)\n",
    "library(rjags)\n",
    "library(data.table)\n",
    "library(R2WinBUGS)\n",
    "library(R2OpenBUGS)\n",
    "library(coda)\n",
    "library(lattice)\n",
    "library(hesim)"
   ]
  },
  {
   "cell_type": "code",
   "execution_count": 50,
   "id": "591fbf7d",
   "metadata": {},
   "outputs": [],
   "source": [
    "library(R2WinBUGS)"
   ]
  },
  {
   "cell_type": "code",
   "execution_count": 51,
   "id": "f53a5bc0",
   "metadata": {},
   "outputs": [],
   "source": [
    "library(data.table)"
   ]
  },
  {
   "cell_type": "markdown",
   "id": "4e382f2b",
   "metadata": {},
   "source": [
    "#### specifying the saving location "
   ]
  },
  {
   "cell_type": "code",
   "execution_count": 52,
   "id": "8b2d1519",
   "metadata": {},
   "outputs": [],
   "source": [
    "savingLoc = \"Y:/ZahraEftekhar/phase4/\""
   ]
  },
  {
   "cell_type": "code",
   "execution_count": 53,
   "id": "1b2b7e84",
   "metadata": {},
   "outputs": [],
   "source": [
    "amsterdamMezuroZones = data.table(read.csv(paste0(savingLoc,\"amsterdamMezuroZones.CSV\"))[ ,c('mzr_id')])\n",
    "colnames(amsterdamMezuroZones) <- c(\"location\")\n",
    "amsterdamMezuroZones$code <- 1:dim(amsterdamMezuroZones)[1]\n",
    "amsterdamMezuroZones <- amsterdamMezuroZones[order(amsterdamMezuroZones$location),]\n",
    "\n",
    "acts <- c(\"home\",\"work\",\"other\")\n",
    "data_all <- data.frame()\n",
    "for (act in acts){\n",
    "data_act = data.table(read.csv(paste0(savingLoc,\"train_\",act,'_zoneLabled.csv')))[ ,c(\"VEHICLE\",\"activityType\"\n",
    "      ,\"start\",\"duration\",\"x\",\"y\",\"mzr_id\")]\n",
    "data_all <- rbind(data_all,data_act)\n",
    "}\n",
    "data_all$actCategory <- 3\n",
    "for (act in acts[1:length(acts)-1]){\n",
    "\n",
    "data_all$actCategory[data_all$activityType == act] <-\n",
    "  data_all$activityType[data_all$activityType == act]\n",
    "}\n"
   ]
  },
  {
   "cell_type": "markdown",
   "id": "1391766c",
   "metadata": {},
   "source": [
    "### activity category probability of each OD zone "
   ]
  },
  {
   "cell_type": "code",
   "execution_count": 54,
   "id": "07949085",
   "metadata": {},
   "outputs": [],
   "source": [
    "amsterdamMezuroZones = data.table(read.csv(paste0(savingLoc,\"amsterdamMezuroZones.CSV\"))[ ,c('mzr_id')])\n",
    "colnames(amsterdamMezuroZones) <- c(\"location\")\n",
    "amsterdamMezuroZones$code <- 1:dim(amsterdamMezuroZones)[1]\n",
    "amsterdamMezuroZones <- amsterdamMezuroZones[order(amsterdamMezuroZones$location),]\n",
    "\n",
    "acts <- c(\"home\",\"work\",\"other\")\n",
    "data_all <- data.frame()\n",
    "for (act in acts){\n",
    "data_act = data.table(read.csv(paste0(savingLoc,\"train_\",act,'_zoneLabled.csv')))[ ,c(\"VEHICLE\",\"activityType\"\n",
    "      ,\"start\",\"duration\",\"x\",\"y\",\"mzr_id\")]\n",
    "data_all <- rbind(data_all,data_act)\n",
    "}\n",
    "data_all$actCategory <- 3\n",
    "for (act in acts[1:length(acts)-1]){\n",
    "\n",
    "data_all$actCategory[data_all$activityType == act] <-\n",
    "  data_all$activityType[data_all$activityType == act]\n",
    "}\n",
    "# lmod = lm(actCategory ~ mzr_id, data=data_all)\n",
    "# summary(lmod)\n",
    "# anova(lmod)\n",
    "# # png(file=\"D:/ax/gis/phase4/activityDistribution.png\",width=900, height=500)\n",
    "# boxplot(actCategory~mzr_id, data=data_all,col=\"grey90\",xlab=\"OD zone\"\n",
    "#         , ylab=\"activity category\", xaxt=\"n\", yaxt=\"n\", cex.lab=1.6)\n",
    "# ticks<-c(1,1.5,2,2.5,3)\n",
    "# ll <- c(\"home\",\" \",\"work\",\" \",\"other\")\n",
    "# axis(2,at=ticks,labels=ll,cex.axis = 1.4, line =0.6)\n",
    "# dev.off()"
   ]
  },
  {
   "cell_type": "code",
   "execution_count": 55,
   "id": "484da07a",
   "metadata": {},
   "outputs": [],
   "source": [
    "\n",
    "dattt <- data_all$mzr_id\n",
    "dattt <- cbind(dattt,data_all$actCategory)\n",
    "colnames(dattt) <- c(\"location\",\"actCategory\")\n",
    "dattt <- data.table(dattt)\n",
    "setkey(dattt,location)\n",
    "codes <- as.data.frame(sort(unique(dattt$location)))\n",
    "codes$code <- 1:length(unique(dattt$location))\n",
    "colnames(codes) <- c(\"location\",\"code\")\n",
    "codes <- data.table(codes)\n",
    "setkey(codes,location)\n",
    "\n",
    "dattt$location <- as.integer(dattt$location)\n",
    "dat <- merge(dattt,codes,by=c(\"location\"),all = TRUE)\n",
    "dat <- dat[order(dat$location),]\n",
    "modelParams <- matrix(0,nrow = length(amsterdamMezuroZones$location),ncol = 5 )\n",
    "modelParams[,1] <- amsterdamMezuroZones$location\n",
    "modelParams <- modelParams[order(modelParams[,1]),]\n",
    "\n",
    "\n",
    "#modelParams[which(modelParams[,1]== amsterdamMezuroZones$location[1]),2:5] <-pm_params\n",
    "conc <- 1\n",
    "denom <- dim(data_all)[1]\n",
    "alpha<-c((length(which(data_all$actCategory==1))/denom)*conc,\n",
    "         (length(which(data_all$actCategory==2))/denom)*conc,\n",
    "         (length(which(data_all$actCategory==3))/denom)*conc)"
   ]
  },
  {
   "cell_type": "code",
   "execution_count": 56,
   "id": "b7832624",
   "metadata": {},
   "outputs": [
    {
     "name": "stderr",
     "output_type": "stream",
     "text": [
      "Warning message in file(con, \"rb\"):\n",
      "\"cannot open file 'c:/Program Files/WinBUGS14//System/Rsrc/Registry.odc': No such file or directory\""
     ]
    },
    {
     "name": "stdout",
     "output_type": "stream",
     "text": [
      "Error in file(con, \"rb\") : cannot open the connection\n"
     ]
    },
    {
     "ename": "ERROR",
     "evalue": "Error in bugs.run(n.burnin, bugs.directory, WINE = WINE, useWINE = useWINE, : WinBUGS executable does not exist in c:/Program Files/WinBUGS14/\n",
     "output_type": "error",
     "traceback": [
      "Error in bugs.run(n.burnin, bugs.directory, WINE = WINE, useWINE = useWINE, : WinBUGS executable does not exist in c:/Program Files/WinBUGS14/\nTraceback:\n",
      "1. bugs(dataList, inits, params, model.file, n.chains = 3, n.iter = 10000, \n .     codaPkg = TRUE, n.burnin = 1000, DIC = TRUE)",
      "2. bugs.run(n.burnin, bugs.directory, WINE = WINE, useWINE = useWINE, \n .     newWINE = newWINE, WINEPATH = WINEPATH)",
      "3. stop(paste(\"WinBUGS executable does not exist in\", bugs.directory))"
     ]
    }
   ],
   "source": [
    "for (loc in 1:length(amsterdamMezuroZones$location)){\n",
    "  y <- c(dat$actCategory[dat$location==amsterdamMezuroZones$location[loc]])\n",
    "  if (length(y)>1){\n",
    "    N=length(y)\n",
    "\n",
    "\n",
    "    dataList = list(\n",
    "      y = y ,\n",
    "      N = N , \n",
    "      alpha=alpha\n",
    "    )\n",
    "    \n",
    "    #------------------------------------------------------------------------------\n",
    "    # THE MODEL.\n",
    "    model = function(){\n",
    "      #likelihood\n",
    "      for ( i in 1:N ) {\n",
    "        y[i] ~ dcat( theta[] )\n",
    "      }\n",
    "      #prior\n",
    "      theta[1:3] ~ ddirch( alpha[] )\n",
    "      # alpha[1:3] ~ dgamma(2, 0.2)\n",
    "      \n",
    "    }\n",
    "    model.file <- file.path(tempdir(),\"model.txt\") \n",
    "    write.model(model, model.file)\n",
    "    \n",
    "    #------------------------------------------------------------------------------\n",
    "    # INTIALIZE THE CHAINS.\n",
    "    \n",
    "    # Specific initialization is not necessary in this case, \n",
    "    # but here is a lazy version if wanted:\n",
    "    # initsList = list( theta=0.5 , m=1 ) \n",
    "    \n",
    "    #------------------------------------------------------------------------------\n",
    "    \n",
    "    params = c(\"theta\",\"alpha\") \n",
    "    inits<-function(){theta=c(1/3,1/3,1/3)}\n",
    "    set.seed(50)\n",
    "    out<-bugs(dataList,inits,params,model.file,n.chains = 3\n",
    "              ,n.iter=10000,codaPkg = TRUE,n.burnin = 1000,DIC = TRUE)\n",
    "    out.coda <- read.bugs(out) \n",
    "    \n",
    "    # xyplot(out.coda)\n",
    "    # densityplot(out.coda)\n",
    "    # acfplot(out.coda)\n",
    "    # gelman.diag(out.coda) # we should perform the Gelman-Rubin convergence\n",
    "    # diagnostic with gelman.diag. The shrink factors should be below 1.05.\n",
    "    \n",
    "    \n",
    "    #  it is prudent to create the Gelman-Rubin-Brooks plot for visual \n",
    "    # confirmation of the shrink factor convergence as well.\n",
    "    # gelman.plot(out.coda)\n",
    "    # \n",
    "    # out.summary <- summary(out.coda, q=c(0.025, 0.975)) \n",
    "    # out.summary$stat[\"theta[1]\",] \n",
    "    # out.summary$stat[\"theta[2]\",] \n",
    "    # out.summary$stat[\"theta[3]\",] \n",
    "    # out.summary$q[\"theta[1]\", ] \n",
    "    \n",
    "    \n",
    "    mod_sim <- out.coda\n",
    "    mod_csim <- as.mcmc(do.call(rbind,mod_sim))\n",
    "    #plot(mod_sim,ask=TRUE)\n",
    "    #dic <- dic.samples(mod,n.iter = 1e3)\n",
    "    \n",
    "    \n",
    "    ## Model checking\n",
    "    pm_params <- colMeans(mod_csim)\n",
    "    # we use this for prediction\n",
    "    #pm_params\n",
    "    modelParams[loc,2:5] <-pm_params\n",
    "    }\n",
    "  \n",
    "}\n"
   ]
  },
  {
   "cell_type": "code",
   "execution_count": null,
   "id": "55a3d56b",
   "metadata": {},
   "outputs": [],
   "source": [
    "\n",
    "home <- data.table(table(data_home$mzr_id))\n",
    "colnames(home) <- c(\"location\",\"freq\")\n",
    "home$location <- as.integer(home$location)\n",
    "home <- merge(home,amsterdamMezuroZones,by=\"location\",all=TRUE)\n",
    "home$freq[is.na(home$freq)] = 0.001\n",
    "\n",
    "work <- data.table(table(data_work$mzr_id))\n",
    "colnames(work) <- c(\"location\",\"freq\")\n",
    "work$location <- as.integer(work$location)\n",
    "work <- merge(work,amsterdamMezuroZones,by=\"location\",all=TRUE)\n",
    "work$freq[is.na(work$freq)] = 0.001\n",
    "\n",
    "other <- data.table(table(data_other$mzr_id))\n",
    "colnames(other) <- c(\"location\",\"freq\")\n",
    "other$location <- as.integer(other$location)\n",
    "other <- merge(other,amsterdamMezuroZones,by=\"location\",all=TRUE)\n",
    "other$freq[is.na(other$freq)] = 0.001\n",
    "\n",
    "data_allAct <- merge(home,work,by=c(\"code\",\"location\"))\n",
    "data_allAct <- merge(data_allAct,other,by=c(\"code\",\"location\"))\n",
    "colnames(modelParams) <- c(\"mzr_id\",\"deviance\",\"home\",\"work\",\"other\")\n",
    "# write.csv(modelParams,\"D:/ax/gis/phase2/locProbability.csv\", row.names = FALSE)\n",
    "modelParams"
   ]
  }
 ],
 "metadata": {
  "kernelspec": {
   "display_name": "R",
   "language": "R",
   "name": "ir"
  },
  "language_info": {
   "codemirror_mode": "r",
   "file_extension": ".r",
   "mimetype": "text/x-r-source",
   "name": "R",
   "pygments_lexer": "r",
   "version": "3.6.1"
  }
 },
 "nbformat": 4,
 "nbformat_minor": 5
}
