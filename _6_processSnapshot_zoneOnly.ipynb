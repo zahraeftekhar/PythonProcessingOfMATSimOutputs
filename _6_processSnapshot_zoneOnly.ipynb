{
 "cells": [
  {
   "cell_type": "markdown",
   "metadata": {},
   "source": [
    "# GT Analysis: Cross Validation to specify activity category identification variable\n",
    "In this notebook, we analyze the activity category identification with different variable (cross validation)."
   ]
  },
  {
   "cell_type": "markdown",
   "metadata": {},
   "source": [
    "#### adding required packages"
   ]
  },
  {
   "cell_type": "code",
   "execution_count": 403,
   "metadata": {},
   "outputs": [],
   "source": [
    "import pandas as pd\n",
    "from scipy.stats import gaussian_kde\n",
    "import time\n",
    "import numpy as np\n",
    "import pickle\n",
    "from joblib import Parallel, delayed\n",
    "import datetime as dt\n",
    "import random\n",
    "import geopandas as gpd\n",
    "from pyproj import Proj, itransform\n",
    "from shapely.geometry import Point\n",
    "from sklearn.metrics import confusion_matrix\n",
    "import matplotlib.pyplot as plt\n",
    "import matplotlib"
   ]
  },
  {
   "cell_type": "markdown",
   "metadata": {},
   "source": [
    "### specifying the saving location \n"
   ]
  },
  {
   "cell_type": "code",
   "execution_count": 362,
   "metadata": {},
   "outputs": [],
   "source": [
    "savingLoc = \"Y:/ZahraEftekhar/phase4/\""
   ]
  },
  {
   "cell_type": "markdown",
   "metadata": {},
   "source": [
    "#### importing probability of each activity category for each OD zone\n",
    "This file is the output of R after applying a hierarchical model on location zones."
   ]
  },
  {
   "cell_type": "code",
   "execution_count": 363,
   "metadata": {},
   "outputs": [
    {
     "data": {
      "text/html": [
       "<div>\n",
       "<style scoped>\n",
       "    .dataframe tbody tr th:only-of-type {\n",
       "        vertical-align: middle;\n",
       "    }\n",
       "\n",
       "    .dataframe tbody tr th {\n",
       "        vertical-align: top;\n",
       "    }\n",
       "\n",
       "    .dataframe thead th {\n",
       "        text-align: right;\n",
       "    }\n",
       "</style>\n",
       "<table border=\"1\" class=\"dataframe\">\n",
       "  <thead>\n",
       "    <tr style=\"text-align: right;\">\n",
       "      <th></th>\n",
       "      <th>mzr_id</th>\n",
       "      <th>home</th>\n",
       "      <th>work</th>\n",
       "      <th>other</th>\n",
       "    </tr>\n",
       "  </thead>\n",
       "  <tbody>\n",
       "    <tr>\n",
       "      <th>0</th>\n",
       "      <td>5012</td>\n",
       "      <td>-1.108663</td>\n",
       "      <td>-1.108663</td>\n",
       "      <td>-1.108663</td>\n",
       "    </tr>\n",
       "    <tr>\n",
       "      <th>1</th>\n",
       "      <td>5013</td>\n",
       "      <td>-0.905137</td>\n",
       "      <td>-1.352044</td>\n",
       "      <td>-1.088258</td>\n",
       "    </tr>\n",
       "    <tr>\n",
       "      <th>2</th>\n",
       "      <td>5026</td>\n",
       "      <td>-0.327786</td>\n",
       "      <td>-2.897553</td>\n",
       "      <td>-1.494660</td>\n",
       "    </tr>\n",
       "    <tr>\n",
       "      <th>3</th>\n",
       "      <td>5038</td>\n",
       "      <td>-1.108663</td>\n",
       "      <td>-1.108663</td>\n",
       "      <td>-1.108663</td>\n",
       "    </tr>\n",
       "    <tr>\n",
       "      <th>4</th>\n",
       "      <td>5076</td>\n",
       "      <td>-1.108663</td>\n",
       "      <td>-1.108663</td>\n",
       "      <td>-1.108663</td>\n",
       "    </tr>\n",
       "    <tr>\n",
       "      <th>...</th>\n",
       "      <td>...</td>\n",
       "      <td>...</td>\n",
       "      <td>...</td>\n",
       "      <td>...</td>\n",
       "    </tr>\n",
       "    <tr>\n",
       "      <th>110</th>\n",
       "      <td>7822</td>\n",
       "      <td>-1.108663</td>\n",
       "      <td>-1.108663</td>\n",
       "      <td>-1.108663</td>\n",
       "    </tr>\n",
       "    <tr>\n",
       "      <th>111</th>\n",
       "      <td>7823</td>\n",
       "      <td>-1.108663</td>\n",
       "      <td>-1.108663</td>\n",
       "      <td>-1.108663</td>\n",
       "    </tr>\n",
       "    <tr>\n",
       "      <th>112</th>\n",
       "      <td>7831</td>\n",
       "      <td>-0.693150</td>\n",
       "      <td>-1.458888</td>\n",
       "      <td>-1.318609</td>\n",
       "    </tr>\n",
       "    <tr>\n",
       "      <th>113</th>\n",
       "      <td>7832</td>\n",
       "      <td>-0.529557</td>\n",
       "      <td>-1.687205</td>\n",
       "      <td>-1.486787</td>\n",
       "    </tr>\n",
       "    <tr>\n",
       "      <th>114</th>\n",
       "      <td>0</td>\n",
       "      <td>-1.108663</td>\n",
       "      <td>-1.108663</td>\n",
       "      <td>-1.108663</td>\n",
       "    </tr>\n",
       "  </tbody>\n",
       "</table>\n",
       "<p>115 rows × 4 columns</p>\n",
       "</div>"
      ],
      "text/plain": [
       "     mzr_id      home      work     other\n",
       "0      5012 -1.108663 -1.108663 -1.108663\n",
       "1      5013 -0.905137 -1.352044 -1.088258\n",
       "2      5026 -0.327786 -2.897553 -1.494660\n",
       "3      5038 -1.108663 -1.108663 -1.108663\n",
       "4      5076 -1.108663 -1.108663 -1.108663\n",
       "..      ...       ...       ...       ...\n",
       "110    7822 -1.108663 -1.108663 -1.108663\n",
       "111    7823 -1.108663 -1.108663 -1.108663\n",
       "112    7831 -0.693150 -1.458888 -1.318609\n",
       "113    7832 -0.529557 -1.687205 -1.486787\n",
       "114       0 -1.108663 -1.108663 -1.108663\n",
       "\n",
       "[115 rows x 4 columns]"
      ]
     },
     "execution_count": 363,
     "metadata": {},
     "output_type": "execute_result"
    }
   ],
   "source": [
    "locProbability = pd.read_csv(\"{a}locProbability_0.1.csv\".format(a=savingLoc))\n",
    "# locProbability = pd.read_csv(\"{a}locProbability.csv\".format(a=savingLoc))\n",
    "\n",
    "zeroR = pd.Series(0, index=locProbability.columns)\n",
    "locProbability = locProbability.append(zeroR,ignore_index=True)\n",
    "locProbability.loc[locProbability[\"home\"]==0,[\"home\",\"work\",\"other\"]]=0.33\n",
    "locProbability.set_index(\"mzr_id\",inplace=True)\n",
    "locProbability = np.log(locProbability)\n",
    "locProbability.reset_index(drop=False, inplace=True)\n",
    "locProbability.drop('deviance',axis=1,inplace=True)\n",
    "locProbability"
   ]
  },
  {
   "cell_type": "markdown",
   "metadata": {},
   "source": [
    "### Location Type Identification"
   ]
  },
  {
   "cell_type": "markdown",
   "metadata": {},
   "source": [
    "Now, we can use the files from the previous step to reconstruct the travel diaries. This include to first indentify the event type i.e., `stay` or `pass-by`, then identify the acticity type , i.e., `home`, `work` or `other`. "
   ]
  },
  {
   "cell_type": "code",
   "execution_count": 364,
   "metadata": {},
   "outputs": [
    {
     "name": "stderr",
     "output_type": "stream",
     "text": [
      "C:\\Users\\zahraeftekhar\\.conda\\envs\\ODmatrices\\lib\\site-packages\\pyproj\\crs\\crs.py:53: FutureWarning: '+init=<authority>:<code>' syntax is deprecated. '<authority>:<code>' is the preferred initialization method. When making the change, be mindful of axis order changes: https://pyproj4.github.io/pyproj/stable/gotchas.html#axis-order-changes-in-proj-6\n",
      "  return _prepare_from_string(\" \".join(pjargs))\n",
      "C:\\Users\\zahraeftekhar\\.conda\\envs\\ODmatrices\\lib\\site-packages\\pyproj\\crs\\crs.py:294: FutureWarning: '+init=<authority>:<code>' syntax is deprecated. '<authority>:<code>' is the preferred initialization method. When making the change, be mindful of axis order changes: https://pyproj4.github.io/pyproj/stable/gotchas.html#axis-order-changes-in-proj-6\n",
      "  projstring = _prepare_from_string(\" \".join((projstring, projkwargs)))\n",
      "C:\\Users\\zahraeftekhar\\.conda\\envs\\ODmatrices\\lib\\site-packages\\pyproj\\crs\\crs.py:53: FutureWarning: '+init=<authority>:<code>' syntax is deprecated. '<authority>:<code>' is the preferred initialization method. When making the change, be mindful of axis order changes: https://pyproj4.github.io/pyproj/stable/gotchas.html#axis-order-changes-in-proj-6\n",
      "  return _prepare_from_string(\" \".join(pjargs))\n",
      "C:\\Users\\zahraeftekhar\\.conda\\envs\\ODmatrices\\lib\\site-packages\\pyproj\\crs\\crs.py:294: FutureWarning: '+init=<authority>:<code>' syntax is deprecated. '<authority>:<code>' is the preferred initialization method. When making the change, be mindful of axis order changes: https://pyproj4.github.io/pyproj/stable/gotchas.html#axis-order-changes-in-proj-6\n",
      "  projstring = _prepare_from_string(\" \".join((projstring, projkwargs)))\n",
      "C:\\Users\\ZAHRAE~1\\AppData\\Local\\Temp/ipykernel_17420/891948543.py:26: DeprecationWarning: This function is deprecated. See: https://pyproj4.github.io/pyproj/stable/gotchas.html#upgrading-to-pyproj-2-from-pyproj-1\n",
      "  for pt in itransform(p1,p2,points, always_xy=True):\n",
      "C:\\Users\\zahraeftekhar\\.conda\\envs\\ODmatrices\\lib\\site-packages\\pyproj\\crs\\crs.py:53: FutureWarning: '+init=<authority>:<code>' syntax is deprecated. '<authority>:<code>' is the preferred initialization method. When making the change, be mindful of axis order changes: https://pyproj4.github.io/pyproj/stable/gotchas.html#axis-order-changes-in-proj-6\n",
      "  return _prepare_from_string(\" \".join(pjargs))\n",
      "C:\\Users\\zahraeftekhar\\.conda\\envs\\ODmatrices\\lib\\site-packages\\pyproj\\crs\\crs.py:294: FutureWarning: '+init=<authority>:<code>' syntax is deprecated. '<authority>:<code>' is the preferred initialization method. When making the change, be mindful of axis order changes: https://pyproj4.github.io/pyproj/stable/gotchas.html#axis-order-changes-in-proj-6\n",
      "  projstring = _prepare_from_string(\" \".join((projstring, projkwargs)))\n",
      "C:\\Users\\zahraeftekhar\\.conda\\envs\\ODmatrices\\lib\\site-packages\\pyproj\\crs\\crs.py:53: FutureWarning: '+init=<authority>:<code>' syntax is deprecated. '<authority>:<code>' is the preferred initialization method. When making the change, be mindful of axis order changes: https://pyproj4.github.io/pyproj/stable/gotchas.html#axis-order-changes-in-proj-6\n",
      "  return _prepare_from_string(\" \".join(pjargs))\n",
      "C:\\Users\\zahraeftekhar\\.conda\\envs\\ODmatrices\\lib\\site-packages\\pyproj\\crs\\crs.py:294: FutureWarning: '+init=<authority>:<code>' syntax is deprecated. '<authority>:<code>' is the preferred initialization method. When making the change, be mindful of axis order changes: https://pyproj4.github.io/pyproj/stable/gotchas.html#axis-order-changes-in-proj-6\n",
      "  projstring = _prepare_from_string(\" \".join((projstring, projkwargs)))\n",
      "C:\\Users\\ZAHRAE~1\\AppData\\Local\\Temp/ipykernel_17420/891948543.py:26: DeprecationWarning: This function is deprecated. See: https://pyproj4.github.io/pyproj/stable/gotchas.html#upgrading-to-pyproj-2-from-pyproj-1\n",
      "  for pt in itransform(p1,p2,points, always_xy=True):\n",
      "C:\\Users\\zahraeftekhar\\.conda\\envs\\ODmatrices\\lib\\site-packages\\pyproj\\crs\\crs.py:53: FutureWarning: '+init=<authority>:<code>' syntax is deprecated. '<authority>:<code>' is the preferred initialization method. When making the change, be mindful of axis order changes: https://pyproj4.github.io/pyproj/stable/gotchas.html#axis-order-changes-in-proj-6\n",
      "  return _prepare_from_string(\" \".join(pjargs))\n",
      "C:\\Users\\zahraeftekhar\\.conda\\envs\\ODmatrices\\lib\\site-packages\\pyproj\\crs\\crs.py:294: FutureWarning: '+init=<authority>:<code>' syntax is deprecated. '<authority>:<code>' is the preferred initialization method. When making the change, be mindful of axis order changes: https://pyproj4.github.io/pyproj/stable/gotchas.html#axis-order-changes-in-proj-6\n",
      "  projstring = _prepare_from_string(\" \".join((projstring, projkwargs)))\n",
      "C:\\Users\\zahraeftekhar\\.conda\\envs\\ODmatrices\\lib\\site-packages\\pyproj\\crs\\crs.py:53: FutureWarning: '+init=<authority>:<code>' syntax is deprecated. '<authority>:<code>' is the preferred initialization method. When making the change, be mindful of axis order changes: https://pyproj4.github.io/pyproj/stable/gotchas.html#axis-order-changes-in-proj-6\n",
      "  return _prepare_from_string(\" \".join(pjargs))\n",
      "C:\\Users\\zahraeftekhar\\.conda\\envs\\ODmatrices\\lib\\site-packages\\pyproj\\crs\\crs.py:294: FutureWarning: '+init=<authority>:<code>' syntax is deprecated. '<authority>:<code>' is the preferred initialization method. When making the change, be mindful of axis order changes: https://pyproj4.github.io/pyproj/stable/gotchas.html#axis-order-changes-in-proj-6\n",
      "  projstring = _prepare_from_string(\" \".join((projstring, projkwargs)))\n",
      "C:\\Users\\ZAHRAE~1\\AppData\\Local\\Temp/ipykernel_17420/891948543.py:26: DeprecationWarning: This function is deprecated. See: https://pyproj4.github.io/pyproj/stable/gotchas.html#upgrading-to-pyproj-2-from-pyproj-1\n",
      "  for pt in itransform(p1,p2,points, always_xy=True):\n"
     ]
    },
    {
     "name": "stdout",
     "output_type": "stream",
     "text": [
      "0.0 minutes\n"
     ]
    }
   ],
   "source": [
    "#we time the process\n",
    "startTime = time.time()\n",
    "\n",
    "seed=101\n",
    "random.seed(seed)\n",
    "# building the zero OD Matrix based on the number of zones in the SHP\n",
    "map_mzr = TAZmap()\n",
    "map_mzr.set_map(\"{a}amsterdamMezuroZones.shp\".format(a=savingLoc))\n",
    "inputs = map_mzr.map.geometry\n",
    "map_mzr.map\n",
    "acts = ['home','work','other']\n",
    "allActivity = pd.DataFrame()\n",
    "for act in acts:\n",
    "\n",
    "    with open('{a}{aa}_seed{s}.pickle'.format(aa = act,a=savingLoc,s=seed),\n",
    "              'rb') as handle:\n",
    "        activityFile = pickle.load( handle)\n",
    "    points = list(zip([float(num) for num in (activityFile.x.values)],[float(num) for num in (activityFile.y.values)]))\n",
    "\n",
    "    # projection 1:\n",
    "    p1 = Proj(init='epsg:23031')\n",
    "    # projection 2: \n",
    "    p2 = Proj(init='epsg:28992')\n",
    "    ptsX = []\n",
    "    ptsY = []\n",
    "    for pt in itransform(p1,p2,points, always_xy=True): \n",
    "        ptsX = ptsX + [pt[0]]\n",
    "        ptsY = ptsY + [pt[1]]\n",
    "    activityFile = gpd.GeoDataFrame(activityFile, geometry=gpd.points_from_xy(ptsX,ptsY))\n",
    "    activityFile = activityFile.set_crs(epsg=28992)\n",
    "    activityFile = gpd.sjoin(activityFile, map_mzr.map,how = \"left\")\n",
    "    activityFile.mzr_id = (np.nan_to_num((activityFile.mzr_id)))\n",
    "    activityFile.drop(['index_right'],axis=1,inplace=True)\n",
    "    activityFile.rename(columns={'home': 'Thome','work':'Twork','other':'Tother','activity?':'Tactivity?'},inplace=True)\n",
    "    activityFile = activityFile.merge(locProbability,on=\"mzr_id\",how=\"left\")\n",
    "    activityFile[\"actualAct\"] = act\n",
    "    activityFile.rename(columns={'home': 'Shome','work':'Swork','other':'Sother'},inplace=True)\n",
    "    activityFile['Sactivity?'] = activityFile[['Shome','Swork','Sother']].idxmax(axis = 1).str[1:]\n",
    "    for stAct in acts:\n",
    "        activityFile['ST{aaa}'.format(aaa=stAct)] = activityFile[\"T{aaa}\".format(aaa=stAct)]+(activityFile[\"S{aaa}\".format(aaa=stAct)])\n",
    "    activityFile['STactivity?'] = activityFile[['SThome','STwork','STother']].idxmax(axis = 1).str[2:]\n",
    "    allActivity = allActivity.append(activityFile,ignore_index = True)\n",
    "    \n",
    "with open(\"{a}crossVal_activity_seed{b}\".format(a=savingLoc,b=seed), 'wb') as handle:\n",
    "    pickle.dump(activityFile, handle, protocol=pickle.HIGHEST_PROTOCOL)\n",
    "print((time.time() - startTime)//60,'minutes')\n"
   ]
  },
  {
   "cell_type": "code",
   "execution_count": 365,
   "metadata": {},
   "outputs": [
    {
     "name": "stdout",
     "output_type": "stream",
     "text": [
      "ST:\n",
      "                  observed home  observed work  observed other\n",
      "predicted home           22659            111             568\n",
      "predicted work             223          12899             217\n",
      "predicted other           4516            678           17182\n",
      "T:\n",
      "                  observed home  observed work  observed other\n",
      "predicted home           22659            111             568\n",
      "predicted work             223          12899             217\n",
      "predicted other           4516            678           17182\n",
      "S:\n",
      "                  observed home  observed work  observed other\n",
      "predicted home           22659            111             568\n",
      "predicted work             223          12899             217\n",
      "predicted other           4516            678           17182\n"
     ]
    }
   ],
   "source": [
    "y_st = allActivity[\"STactivity?\"].values\n",
    "y_s = allActivity[\"Sactivity?\"].values\n",
    "y_t = allActivity[\"Tactivity?\"].values\n",
    "y_actu = allActivity[\"actualAct\"].values\n",
    "\n",
    "conST = pd.DataFrame(confusion_matrix(y_actu, y_st,labels=[\"home\", \"work\", \"other\"]).T,\n",
    "                     index = [\"predicted home\",\"predicted work\",\"predicted other\"],columns = [\"observed home\",\"observed work\",\"observed other\"])\n",
    "print(\"ST:\\n\",conST)\n",
    "\n",
    "conT = pd.DataFrame(confusion_matrix(y_actu, y_t,labels=[\"home\", \"work\", \"other\"]).T,\n",
    "                    index = [\"predicted home\",\"predicted work\",\"predicted other\"],columns = [\"observed home\",\"observed work\",\"observed other\"])\n",
    "print(\"T:\\n\",conST)\n",
    "\n",
    "conS = pd.DataFrame(confusion_matrix(y_actu, y_s,labels=[\"home\", \"work\", \"other\"]).T,\n",
    "                    index = [\"predicted home\",\"predicted work\",\"predicted other\"],columns = [\"observed home\",\"observed work\",\"observed other\"])\n",
    "print(\"S:\\n\",conST)\n",
    "\n",
    "with pd.ExcelWriter('{a}activityConfusion.xlsx'.format(a=savingLoc)) as writer:  \n",
    "    conST.to_excel(writer, sheet_name='ST')\n",
    "    conT.to_excel(writer, sheet_name='T')\n",
    "    conS.to_excel(writer, sheet_name='S')\n"
   ]
  },
  {
   "cell_type": "code",
   "execution_count": 469,
   "metadata": {},
   "outputs": [
    {
     "name": "stdout",
     "output_type": "stream",
     "text": [
      "home false-negative error based on start of the activity \n"
     ]
    },
    {
     "data": {
      "text/plain": [
       "<Figure size 864x576 with 0 Axes>"
      ]
     },
     "metadata": {},
     "output_type": "display_data"
    },
    {
     "data": {
      "image/png": "[encoded data removed]",
      "text/plain": [
       "<Figure size 576x360 with 1 Axes>"
      ]
     },
     "metadata": {},
     "output_type": "display_data"
    },
    {
     "name": "stdout",
     "output_type": "stream",
     "text": [
      "start of the activity other \n"
     ]
    },
    {
     "data": {
      "text/plain": [
       "<Figure size 576x360 with 0 Axes>"
      ]
     },
     "metadata": {},
     "output_type": "display_data"
    },
    {
     "data": {
      "text/plain": [
       "<Figure size 864x576 with 0 Axes>"
      ]
     },
     "metadata": {},
     "output_type": "display_data"
    },
    {
     "data": {
      "image/png": "[encoded data removed]",
      "text/plain": [
       "<Figure size 576x360 with 1 Axes>"
      ]
     },
     "metadata": {},
     "output_type": "display_data"
    },
    {
     "data": {
      "text/plain": [
       "<Figure size 576x360 with 0 Axes>"
      ]
     },
     "metadata": {},
     "output_type": "display_data"
    }
   ],
   "source": [
    "# __________________ HOME PredictionError_start______________\n",
    "kk =  allActivity[(allActivity[\"STactivity?\"]!=allActivity[\"actualAct\"]) & (allActivity.loc[:,\"actualAct\"]==\"home\")]\n",
    "homeFalseNeg_start = [pd.to_timedelta(i).total_seconds() for i in kk.loc[:,\"start\"]]\n",
    "homeFalseNeg_start = pd.DataFrame(pd.to_numeric(homeFalseNeg_start)/3600)\n",
    "plt.rcParams['figure.figsize'] = (16.0, 12.0)\n",
    "plt.figure(figsize=(12, 8))\n",
    "params = {'figure.figsize': (8, 5)}\n",
    "plt.rcParams.update(params)\n",
    "\n",
    "# plt.figure()\n",
    "plt.style.use('ggplot')\n",
    "ax1 = (homeFalseNeg_start).plot(kind='hist', bins=72, density=True, alpha=0.5, label='prediction error of home activity', legend=False)\n",
    "ax1.set_xlabel(u'start (hour)',fontsize=14)\n",
    "print('home false-negative error based on start of the activity ')\n",
    "ax1.set_ylabel('error frequency',fontsize=14)\n",
    "plt.xticks((np.arange(0, 24, step=4)),fontsize=12)\n",
    "plt.show()\n",
    "plt.savefig(\"{a}homeFNs_start.pdf\".format(a=savingLoc),dpi = 150)\n",
    "plt.savefig(\"{a}homeFNs_start.png\".format(a=savingLoc),dpi = 150)\n",
    "\n",
    "# __________________ other_start______________\n",
    "kk =  allActivity[(allActivity.loc[:,\"actualAct\"]==\"other\")]\n",
    "other_start = [pd.to_timedelta(i).total_seconds() for i in kk.loc[:,\"start\"]]\n",
    "other_start = pd.DataFrame(pd.to_numeric(other_start)/3600)\n",
    "# (other_start)\n",
    "plt.rcParams['figure.figsize'] = (16.0, 12.0)\n",
    "plt.figure(figsize=(12, 8))\n",
    "params = {'figure.figsize': (8, 5)}\n",
    "plt.rcParams.update(params)\n",
    "\n",
    "# # plt.figure()\n",
    "plt.style.use('ggplot')\n",
    "ax1 = (other_start).plot(kind='hist', bins=72, density=True, alpha=0.5, label='actual start of other activity', legend=False)\n",
    "ax1.set_xlabel(u'start (hour)',fontsize=14)\n",
    "print('start of the activity other ')\n",
    "ax1.set_ylabel('frequency',fontsize=14)\n",
    "plt.xticks((np.arange(0, 24, step=4)),fontsize=12)\n",
    "plt.show()\n",
    "plt.savefig(\"{a}other_start.pdf\".format(a=savingLoc),dpi = 150)\n",
    "plt.savefig(\"{a}other_start.png\".format(a=savingLoc),dpi = 150)\n",
    "\n"
   ]
  },
  {
   "cell_type": "code",
   "execution_count": 473,
   "metadata": {},
   "outputs": [
    {
     "name": "stdout",
     "output_type": "stream",
     "text": [
      "home false-negative error based on duration of the activity \n"
     ]
    },
    {
     "data": {
      "text/plain": [
       "<Figure size 864x576 with 0 Axes>"
      ]
     },
     "metadata": {},
     "output_type": "display_data"
    },
    {
     "data": {
      "image/png": "[encoded data removed]",
      "text/plain": [
       "<Figure size 576x360 with 1 Axes>"
      ]
     },
     "metadata": {},
     "output_type": "display_data"
    },
    {
     "name": "stdout",
     "output_type": "stream",
     "text": [
      "duration of the activity other \n"
     ]
    },
    {
     "data": {
      "text/plain": [
       "<Figure size 576x360 with 0 Axes>"
      ]
     },
     "metadata": {},
     "output_type": "display_data"
    },
    {
     "data": {
      "text/plain": [
       "<Figure size 864x576 with 0 Axes>"
      ]
     },
     "metadata": {},
     "output_type": "display_data"
    },
    {
     "data": {
      "image/png": "[encoded data removed]",
      "text/plain": [
       "<Figure size 576x360 with 1 Axes>"
      ]
     },
     "metadata": {},
     "output_type": "display_data"
    },
    {
     "data": {
      "text/plain": [
       "<Figure size 576x360 with 0 Axes>"
      ]
     },
     "metadata": {},
     "output_type": "display_data"
    }
   ],
   "source": [
    "# __________________ HOME PredictionError_duration______________\n",
    "kk =  allActivity[(allActivity[\"STactivity?\"]!=allActivity[\"actualAct\"]) & (allActivity.loc[:,\"actualAct\"]==\"home\")]\n",
    "homeFalseNeg_duration = [pd.to_timedelta(i).total_seconds() for i in kk.loc[:,\"duration\"]]\n",
    "homeFalseNeg_duration = pd.DataFrame(pd.to_numeric(homeFalseNeg_duration)/3600)\n",
    "plt.rcParams['figure.figsize'] = (16.0, 12.0)\n",
    "plt.figure(figsize=(12, 8))\n",
    "params = {'figure.figsize': (8, 5)}\n",
    "plt.rcParams.update(params)\n",
    "\n",
    "# plt.figure()\n",
    "plt.style.use('ggplot')\n",
    "ax1 = (homeFalseNeg_duration).plot(kind='hist', bins=72, density=True, alpha=0.5, label='prediction error of home activity', legend=False)\n",
    "ax1.set_xlabel(u'duration (hour)',fontsize=14)\n",
    "print('home false-negative error based on duration of the activity ')\n",
    "ax1.set_ylabel('error frequency',fontsize=14)\n",
    "plt.xticks((np.arange(0, 10, step=2)),fontsize=12)\n",
    "plt.xlim((0,9))\n",
    "plt.show()\n",
    "plt.savefig(\"{a}homeFNs_duration.pdf\".format(a=savingLoc),dpi = 150)\n",
    "plt.savefig(\"{a}homeFNs_duration.png\".format(a=savingLoc),dpi = 150)\n",
    "\n",
    "# __________________ other_duration______________\n",
    "kk =  allActivity[(allActivity.loc[:,\"actualAct\"]==\"other\")]\n",
    "other_duration = [pd.to_timedelta(i).total_seconds() for i in kk.loc[:,\"duration\"]]\n",
    "other_duration = pd.DataFrame(pd.to_numeric(other_duration)/3600)\n",
    "# (other_duration)\n",
    "plt.rcParams['figure.figsize'] = (16.0, 12.0)\n",
    "plt.figure(figsize=(12, 8))\n",
    "params = {'figure.figsize': (8, 5)}\n",
    "plt.rcParams.update(params)\n",
    "\n",
    "# # plt.figure()\n",
    "plt.style.use('ggplot')\n",
    "ax1 = (other_duration).plot(kind='hist', bins=72, density=True, alpha=0.5, label='actual duration of other activity', legend=False)\n",
    "ax1.set_xlabel(u'duration (hour)',fontsize=14)\n",
    "print('duration of the activity other ')\n",
    "ax1.set_ylabel('frequency',fontsize=14)\n",
    "plt.xticks((np.arange(0, 10, step=2)),fontsize=12)\n",
    "plt.show()\n",
    "plt.savefig(\"{a}other_duration.pdf\".format(a=savingLoc),dpi = 150)\n",
    "plt.savefig(\"{a}other_duration.png\".format(a=savingLoc),dpi = 150)"
   ]
  },
  {
   "cell_type": "code",
   "execution_count": 474,
   "metadata": {},
   "outputs": [
    {
     "name": "stdout",
     "output_type": "stream",
     "text": [
      "overall accuracy when using only spatial variable:  47.92 %\n",
      "overall accuracy when using only temporal variables:  89.69 %\n",
      "overall accuracy when using both temporal and spatial variables:  89.31 %\n"
     ]
    }
   ],
   "source": [
    "print(\"overall accuracy when using only spatial variable: \",round(sum(allActivity[\"Sactivity?\"]==allActivity['actualAct'])/len(allActivity)*10000)/100,\"%\")\n",
    "print(\"overall accuracy when using only temporal variables: \",round(sum(allActivity[\"Tactivity?\"]==allActivity['actualAct'])/len(allActivity)*10000)/100,\"%\")\n",
    "print(\"overall accuracy when using both temporal and spatial variables: \",round(sum(allActivity[\"STactivity?\"]==allActivity['actualAct'])/len(allActivity)*10000)/100,\"%\")\n"
   ]
  }
 ],
 "metadata": {
  "kernelspec": {
   "display_name": "Python 3 (ipykernel)",
   "language": "python",
   "name": "python3"
  },
  "language_info": {
   "codemirror_mode": {
    "name": "ipython",
    "version": 3
   },
   "file_extension": ".py",
   "mimetype": "text/x-python",
   "name": "python",
   "nbconvert_exporter": "python",
   "pygments_lexer": "ipython3",
   "version": "3.8.11"
  }
 },
 "nbformat": 4,
 "nbformat_minor": 4
}
