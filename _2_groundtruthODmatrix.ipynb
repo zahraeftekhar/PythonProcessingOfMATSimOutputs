{
 "cells": [
  {
   "cell_type": "markdown",
   "id": "f3aedcb2",
   "metadata": {},
   "source": [
    "# Estimation and Analysis of the ground-truth OD matrix"
   ]
  },
  {
   "cell_type": "markdown",
   "id": "df9c88e4",
   "metadata": {},
   "source": [
    "#### adding required packages"
   ]
  },
  {
   "cell_type": "code",
   "execution_count": 104,
   "id": "60dc51d8",
   "metadata": {},
   "outputs": [],
   "source": [
    "import pandas as pd\n",
    "import numpy as np\n",
    "import pickle\n",
    "import time\n",
    "# Install a conda package in the current Jupyter kernel\n",
    "import sys\n",
    "# !conda install --yes --prefix {sys.prefix} pyproj\n",
    "# import sys\n",
    "# !{sys.executable} -m pip install geopandas\n",
    "\n",
    "# !pip uninstall shapely\n",
    "# !conda install -c conda-forge shapely\n",
    "# !pip uninstall pyproj\n",
    "# !conda install -c conda-forge pyproj\n",
    "from pyproj import Proj, transform\n",
    "from shapely.geometry import Point\n",
    "import geopandas as gpd"
   ]
  },
  {
   "cell_type": "markdown",
   "id": "192eea68",
   "metadata": {},
   "source": [
    "#### specifying the saving location "
   ]
  },
  {
   "cell_type": "code",
   "execution_count": 105,
   "id": "c46e1cf3",
   "metadata": {},
   "outputs": [],
   "source": [
    "savingLoc = \"Y:/ZahraEftekhar/phase4/\""
   ]
  },
  {
   "cell_type": "markdown",
   "id": "810b8506",
   "metadata": {},
   "source": [
    "#### functions for proximity analysis"
   ]
  },
  {
   "cell_type": "markdown",
   "id": "7612e1cb",
   "metadata": {},
   "source": [
    "Here, we create classes and functions to automate the proximity analysis. These analyses include changing the coordinate system, mapping the location coordinates to their associated TAZ (traffic analysis zone)."
   ]
  },
  {
   "cell_type": "code",
   "execution_count": 106,
   "id": "7c25437a",
   "metadata": {},
   "outputs": [],
   "source": [
    "#this class change coordinate system and map location coordinates to zones:\n",
    "class LongLat:\n",
    "    def __init__(self, *args):\n",
    "        self.TAZ = 0\n",
    "    def set_location(self, x, y):\n",
    "        from shapely.geometry import Point\n",
    "        self.location = Point(x, y)\n",
    "\n",
    "    def changeCoordSys(self, initial: str = 'epsg:23031', final: str = 'epsg:28992'):\n",
    "        from pyproj import Proj, transform\n",
    "        from shapely.geometry import Point\n",
    "        self.location = Point(transform(Proj(init=initial), Proj(init=final), self.location.x, self.location.y))\n",
    "\n",
    "    def zoneMapping(self, onepolygon, polygonName):\n",
    "        if (onepolygon.contains(self.location)):\n",
    "            self.TAZ = polygonName\n",
    "# this class only reads SHP:\n",
    "class TAZmap:\n",
    "    def __init__(self): pass\n",
    "\n",
    "    def set_map(self, value):\n",
    "        import geopandas as gpd\n",
    "        self.map = gpd.read_file(value)"
   ]
  },
  {
   "cell_type": "markdown",
   "id": "079bdb2b",
   "metadata": {},
   "source": [
    "#### building the zero OD Matrix based on the number of zones in the SHP"
   ]
  },
  {
   "cell_type": "code",
   "execution_count": 120,
   "id": "dafad35e",
   "metadata": {},
   "outputs": [],
   "source": [
    "# building the zero OD Matrix based on the number of zones in the SHP\n",
    "map_mzr = TAZmap()\n",
    "map_mzr.set_map(\"{a}amsterdamMezuroZones.shp\".format(a=savingLoc))\n",
    "inputs = map_mzr.map.geometry\n",
    "amsterdamMezuroZones = pd.read_csv(\"{a}amsterdamMezuroZones.CSV\".format(a=savingLoc), usecols=['mzr_id'])\n",
    "tazNames = amsterdamMezuroZones['mzr_id']\n",
    "zoneZero = pd.Series(0)\n",
    "matrixRowColNames = tuple(zoneZero.append(tazNames))\n",
    "odsize=len(matrixRowColNames)\n",
    "del map_mzr\n",
    "ODMatrix_df = pd.DataFrame(np.zeros((odsize, odsize), dtype=np.int32), columns=matrixRowColNames,\n",
    "                           index=matrixRowColNames)  # creating empty OD matrix"
   ]
  },
  {
   "cell_type": "markdown",
   "id": "b9bd9bc9",
   "metadata": {},
   "source": [
    "## Specifying the OD matrix estimation interval\n",
    "========================================================="
   ]
  },
  {
   "cell_type": "code",
   "execution_count": 108,
   "id": "4f61f168",
   "metadata": {},
   "outputs": [],
   "source": [
    "ODstart = \"6:30:00\"\n",
    "ODend = \"9:30:00\"\n",
    "startTime_OD = pd.to_timedelta(ODstart)\n",
    "endTime_OD = pd.to_timedelta(ODend)"
   ]
  },
  {
   "cell_type": "markdown",
   "id": "51da44ba",
   "metadata": {},
   "source": [
    "#### Reading the travel diaries to estimate the OD matrix"
   ]
  },
  {
   "cell_type": "code",
   "execution_count": 119,
   "id": "60e03f49",
   "metadata": {},
   "outputs": [],
   "source": [
    "with open('{a}1.trueLocExperienced.pickle'.format(a=savingLoc), 'rb') as handle:\n",
    "    itemlistExperienced = pickle.load(handle)"
   ]
  },
  {
   "cell_type": "code",
   "execution_count": 121,
   "metadata": {},
   "outputs": [
    {
     "data": {
      "text/plain": [
       "223"
      ]
     },
     "execution_count": 121,
     "metadata": {},
     "output_type": "execute_result"
    }
   ],
   "source": [
    "kk = ['10074', '100754', '100790', '100806', '10081', '100818', '10082', '100821', '100824', '100839', '100843', '100844', '10087', '100871', '100880', '100881', '100882', '100890', '100895', '100897', '100915', '100927', '10094', '100946', '10095', '100953', '10096', '10097', '100970', '100972', '100979', '10099', '100996', '100999', '10100', '101000', '101018', '10102', '101020', '101022', '10103', '101032', '101055', '101057', '101082', '101116', '101121', '101125', '101133', '101142', '101153', '101154', '101155', '101158', '10118', '10119', '101192', '101194', '1012', '10120', '101202', '101208', '101215', '101234', '101243', '10125', '101261', '101266', '101267', '101268', '101270', '101282', '101283', '101298', '10130', '101304', '101306', '101317', '101339', '101342', '101348', '10135', '101356', '101365', '10138', '101385', '101387', '101390', '101402', '101427', '101430', '101445', '10145', '101488', '101492', '10150', '101511', '101512', '101513', '10152', '10154', '101540', '101557', '101566', '101569', '101574', '101583', '101587', '101590', '101597', '101606', '101609', '101614', '101619', '101622', '101634', '10164', '101680', '101681', '101687', '101693', '101702', '101723', '101733', '10174', '101749', '10175', '101765', '10179', '101790', '101815', '101819', '101821', '101827', '101830', '101831', '101832', '101864', '101865', '101874', '10188', '1019', '101913', '10192', '101930', '101939', '101950', '101951', '10196', '101960', '101981', '101983', '101993', '102017', '102028', '102033', '102042', '102050', '102064', '102072', '102074', '102080', '102088', '1021', '10211', '102121', '102130', '102134', '102155', '10216', '102161', '102162', '102189', '102190', '102196', '102199', '102201', '102203', '102208', '102216', '102219', '10222', '102224', '102234', '102254', '102256', '102268', '10227', '102291', '102315', '102319', '102332', '10234', '102342', '102348', '102353', '102354', '102356', '102366', '102396', '102397', '102422', '10244', '102447', '102448', '102462', '102463', '102475', '102499', '102507', '102508', '102533', '102535', '102540', '102544', '102545', '10256', '102569', '102570', '10258', '102606', '102624', '102628']\n",
    "len(kk)"
   ]
  },
  {
   "cell_type": "markdown",
   "id": "5edbb8c4",
   "metadata": {},
   "source": [
    "======================================================================================================"
   ]
  },
  {
   "cell_type": "markdown",
   "id": "67d26d0d",
   "metadata": {},
   "source": [
    "#### estimating the ground-truth OD matrix"
   ]
  },
  {
   "cell_type": "code",
   "execution_count": 122,
   "id": "51663f67",
   "metadata": {},
   "outputs": [
    {
     "name": "stdout",
     "output_type": "stream",
     "text": [
      "96.0 seconds\n"
     ]
    }
   ],
   "source": [
    "#we time the process\n",
    "startTime = time.time()\n",
    "for ID in itemlistExperienced.keys():#itemlistExperienced.keys() or ['100158'] or ['100048']\n",
    "    activityListExperienced = itemlistExperienced[ID]\n",
    "    activityListExperienced.loc[:,\"end\"].iloc[-1] = pd.to_timedelta(activityListExperienced.loc[:,\"end\"].iloc[-1]\n",
    "                                                                  )+ pd.to_timedelta('24:00:00')\n",
    "    j=1\n",
    "    while j < len(np.arange(len(activityListExperienced))):\n",
    "        if j==len(np.arange(len(activityListExperienced)))-1:\n",
    "            start_time1 = pd.to_timedelta((activityListExperienced.loc[:,\"start\"]).iloc[j])\n",
    "            end_time1 = pd.to_timedelta((activityListExperienced.loc[:,\"end\"]).iloc[j])\n",
    "            start_time2 = pd.to_timedelta((activityListExperienced.loc[:,\"start\"]).iloc[0])+ pd.to_timedelta('24:00:00')\n",
    "            endActivity = end_time1\n",
    "            startNewActivity = start_time2\n",
    "            if pd.to_timedelta('23:59:59')>=pd.to_timedelta(ODstart)>=pd.to_timedelta(start_time1):\n",
    "                startTime_OD = pd.to_timedelta(ODstart)\n",
    "            else:\n",
    "                startTime_OD = pd.to_timedelta(ODstart) + pd.to_timedelta('24:00:00')\n",
    "            if pd.to_timedelta('23:59:59')>= pd.to_timedelta(ODend) >=pd.to_timedelta(start_time1):\n",
    "                endTime_OD =pd.to_timedelta(ODend)\n",
    "            else:\n",
    "                endTime_OD = pd.to_timedelta(ODend)+ pd.to_timedelta('24:00:00')\n",
    "        else:\n",
    "            start_time1 = pd.to_timedelta(activityListExperienced.loc[:,\"start\"].iloc[j])\n",
    "            end_time1 = pd.to_timedelta(activityListExperienced.loc[:,\"end\"].iloc[j])\n",
    "            start_time2 = pd.to_timedelta(activityListExperienced.loc[:,\"start\"].iloc[j+1])\n",
    "            endActivity = end_time1 \n",
    "            startNewActivity = start_time2 \n",
    "        if pd.to_timedelta(start_time1) <= pd.to_timedelta(startTime_OD) < pd.to_timedelta(startNewActivity):\n",
    "            if endTime_OD <= endActivity:\n",
    "                break\n",
    "            else:\n",
    "                while pd.to_timedelta(endTime_OD) > pd.to_timedelta(endActivity):\n",
    "                    point1 = LongLat()\n",
    "                    point1.set_location(x=float(activityListExperienced.loc[:,\"x\"].iloc[j]),\n",
    "                                        y=float(activityListExperienced.loc[:,\"y\"].iloc[j]))#*********ghablan:j-1\n",
    "                    point1.changeCoordSys()\n",
    "                    for k in range(len(tazNames)):\n",
    "                        point1.zoneMapping(inputs[k], tazNames[k])\n",
    "                    origin = point1.TAZ\n",
    "#                     print(activityListExperienced.loc[:,\"VEHICLE\"].iloc[0])\n",
    "                    point2 = LongLat()\n",
    "                    if j == len(activityListExperienced) - 1:\n",
    "                        point2.set_location(x=float(activityListExperienced.loc[:,\"x\"].iloc[0]),\n",
    "                                            y=float(activityListExperienced.loc[:,\"y\"].iloc[0]))\n",
    "                    else:\n",
    "                        point2.set_location(x=float(activityListExperienced.loc[:,\"x\"].iloc[j+1]),\n",
    "                                        y=float(activityListExperienced.loc[:,\"y\"].iloc[j+1])) #*****ghablan: j\n",
    "                    point2.changeCoordSys()\n",
    "                    for k in range(len(tazNames)):\n",
    "                        point2.zoneMapping(inputs[k], tazNames[k])\n",
    "                    destination = point2.TAZ\n",
    "                    ODMatrix_df[origin][destination] = ODMatrix_df[origin][destination] + 1\n",
    "                    j += 1\n",
    "                    if j > len(np.arange(len(activityListExperienced))) - 1: break\n",
    "                    if j== len(np.arange(len(activityListExperienced)))-1:\n",
    "                        end_time1 = pd.to_timedelta((activityListExperienced.loc[:,\"end\"]).iloc[0])+ pd.to_timedelta('24:00:00')\n",
    "                    else:\n",
    "                        end_time1 = pd.to_timedelta((activityListExperienced.loc[:,\"end\"]).iloc[j])\n",
    "                    endActivity = end_time1 # when using inconsistent timings :endActivity = min(end_time1, start_time2)\n",
    "                break\n",
    "            # continue\n",
    "\n",
    "        j += 1\n",
    "TXTFileName = \"{a}OD({start1}-{start2}_{end1}-{end2}).pickle\".format(a=,savingLoc,start1 = ODstart[0:2],\n",
    "                                                                                     start2 = ODstart[3:5],\n",
    "                                                                     end1 = ODend[0:2], end2 = ODend[3:5])\n",
    "print((time.time() - startTime)//60,'minutes')"
   ]
  },
  {
   "cell_type": "code",
   "execution_count": 103,
   "id": "c36c2b1b",
   "metadata": {},
   "outputs": [
    {
     "name": "stdout",
     "output_type": "stream",
     "text": [
      "36\n"
     ]
    }
   ],
   "source": [
    "print(np.sum(np.sum(ODMatrix_df, axis=0)))"
   ]
  }
 ],
 "metadata": {
  "kernelspec": {
   "display_name": "Python 3",
   "language": "python",
   "name": "python3"
  },
  "language_info": {
   "codemirror_mode": {
    "name": "ipython",
    "version": 3
   },
   "file_extension": ".py",
   "mimetype": "text/x-python",
   "name": "python",
   "nbconvert_exporter": "python",
   "pygments_lexer": "ipython3",
   "version": "3.7.6"
  }
 },
 "nbformat": 4,
 "nbformat_minor": 5
}
