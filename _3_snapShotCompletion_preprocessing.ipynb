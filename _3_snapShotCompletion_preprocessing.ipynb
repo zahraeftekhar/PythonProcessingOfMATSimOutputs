{
 "cells": [
  {
   "cell_type": "markdown",
   "metadata": {},
   "source": [
    "# SnapShot preprocessing:\n",
    "In this notebook we get the MATSim snapShot output as the input. MATSim gives us the user location in constant intervals. It does not report anything when the user is not traveling. So to make this data as much as possible closer to the actual periodic location update, we have to fill in the empty records. also we initially get the snapshots every 30 seconds. For other polling intervals we only reduce the accuracy. Also for the spatial aggregation to the level os TAZ zones, we use arcGIS to extract the associated TAZ of each location record from the snapShot file. The output of arcGIS is the input here."
   ]
  },
  {
   "cell_type": "markdown",
   "metadata": {},
   "source": [
    "#### adding required packages"
   ]
  },
  {
   "cell_type": "code",
   "execution_count": 9,
   "metadata": {},
   "outputs": [],
   "source": [
    "import pandas as pd\n",
    "import time\n",
    "from math import floor\n",
    "import numpy as np\n",
    "import pickle"
   ]
  },
  {
   "cell_type": "markdown",
   "metadata": {},
   "source": [
    "#### specifying the saving location "
   ]
  },
  {
   "cell_type": "code",
   "execution_count": 3,
   "metadata": {},
   "outputs": [],
   "source": [
    "savingLoc = \"Y:/ZahraEftekhar/phase4/\""
   ]
  },
  {
   "cell_type": "markdown",
   "metadata": {},
   "source": [
    "#### preparing the output of arcGIS for completion"
   ]
  },
  {
   "cell_type": "markdown",
   "metadata": {},
   "source": [
    "The output of GIS misses the locations outside of Amsterdam. Therefore, we complete the data by considering their TAZ code `0`."
   ]
  },
  {
   "cell_type": "code",
   "execution_count": 33,
   "metadata": {},
   "outputs": [
    {
     "name": "stdout",
     "output_type": "stream",
     "text": [
      "7481  records are missing that we refill them in our snapShot. \n"
     ]
    }
   ],
   "source": [
    "precompletion = pd.read_csv('{a}GISoutput_PreCompletion.CSV'.format(a=savingLoc),usecols=['mzr_id', 'VEHICLE','TIME','EASTING','NORTHING'])\n",
    "precompletion = precompletion.sort_values(by=[\"VEHICLE\",\"TIME\"])\n",
    "precompletion = precompletion.reset_index(drop=True)\n",
    "with open('{a}snapShot_allowedUsers.pickle'.format(a=savingLoc),'rb') as handle:\n",
    "    MATSimOutput = pickle.load(handle)\n",
    "MATSimOutput=MATSimOutput.reset_index(drop=False)\n",
    "print(len(MATSimOutput)-len(precompletion),\" records are missing that we refill them in our snapShot. \")\n"
   ]
  },
  {
   "cell_type": "code",
   "execution_count": 34,
   "metadata": {},
   "outputs": [
    {
     "name": "stderr",
     "output_type": "stream",
     "text": [
      "c:\\programdata\\anaconda3\\envs\\extractingodfromxml\\lib\\site-packages\\ipykernel_launcher.py:2: SettingWithCopyWarning: \n",
      "A value is trying to be set on a copy of a slice from a DataFrame\n",
      "\n",
      "See the caveats in the documentation: https://pandas.pydata.org/pandas-docs/stable/user_guide/indexing.html#returning-a-view-versus-a-copy\n",
      "  \n"
     ]
    }
   ],
   "source": [
    "completeData = pd.merge(precompletion, MATSimOutput, how='right', on=['VEHICLE','TIME'])\n",
    "(completeData.mzr_id[completeData.mzr_id.isna()]) = 0\n",
    "completeData = completeData.loc[:,['VEHICLE','TIME','EASTING_y','NORTHING_y','mzr_id']]\n",
    "completeData.columns = ['VEHICLE', 'TIME', 'EASTING', 'NORTHING', 'mzr_id']\n",
    "completeData = completeData.sort_values(by = ['VEHICLE', 'TIME'])\n",
    "with open('{a}finalInputPython.pickle'.format(a=savingLoc),'wb') as handle:\n",
    "    pickle.dump(completeData, handle, protocol=pickle.HIGHEST_PROTOCOL)"
   ]
  }
 ],
 "metadata": {
  "kernelspec": {
   "display_name": "Python 3",
   "language": "python",
   "name": "python3"
  },
  "language_info": {
   "codemirror_mode": {
    "name": "ipython",
    "version": 3
   },
   "file_extension": ".py",
   "mimetype": "text/x-python",
   "name": "python",
   "nbconvert_exporter": "python",
   "pygments_lexer": "ipython3",
   "version": "3.7.6"
  }
 },
 "nbformat": 4,
 "nbformat_minor": 4
}
