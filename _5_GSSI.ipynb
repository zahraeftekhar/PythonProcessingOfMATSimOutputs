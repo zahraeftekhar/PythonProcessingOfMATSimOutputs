{
 "cells": [
  {
   "cell_type": "markdown",
   "id": "91990634",
   "metadata": {},
   "source": [
    "# Cross Validation:\n",
    "In this notebook, we validate the OD matrices estimated from the previous steps to get an insight into how different polling intervals effect the quality of OD matrix."
   ]
  },
  {
   "cell_type": "markdown",
   "id": "f2e199fb",
   "metadata": {},
   "source": [
    "#### adding required packages"
   ]
  },
  {
   "cell_type": "code",
   "execution_count": null,
   "id": "c62fa157",
   "metadata": {},
   "outputs": [],
   "source": [
    "import pandas as pd\n",
    "import time\n",
    "import numpy as np\n",
    "import pickle\n",
    "import datetime as dt\n",
    "# import concurrent.futures"
   ]
  },
  {
   "cell_type": "markdown",
   "id": "945fd54c",
   "metadata": {},
   "source": [
    "### specifying the saving location \n"
   ]
  },
  {
   "cell_type": "code",
   "execution_count": null,
   "id": "374d4b09",
   "metadata": {},
   "outputs": [],
   "source": [
    "savingLoc = \"Y:/ZahraEftekhar/phase4/\""
   ]
  },
  {
   "cell_type": "markdown",
   "id": "b5418be1",
   "metadata": {},
   "source": [
    "### calculating the KPIs for OD matrix estimation quality "
   ]
  },
  {
   "cell_type": "markdown",
   "id": "05becaa7",
   "metadata": {},
   "source": [
    "In this module, we compare the oD matrices calculated using different aggregation levels. These KPIs include GSSI (geographical similarity index), MAE (mean average error).\n"
   ]
  },
  {
   "cell_type": "code",
   "execution_count": null,
   "id": "7cec9194",
   "metadata": {},
   "outputs": [],
   "source": [
    "amsterdamZones = pd.read_csv('{a}amsterdamMezuroZones.CSV'.format(a=address))\n",
    "# ***************************** create empty dataframe, size: number of seeds*number of polling intervals ************************************\n",
    "tableGSSI = pd.DataFrame(np.zeros((len(intervals), len(seeds)), dtype=np.int32),columns=seeds,index=intervals)\n",
    "tableSum = pd.DataFrame(np.zeros((len(intervals), len(seeds)), dtype=np.int32),columns=seeds,index=intervals)\n",
    "tableMAE = pd.DataFrame(np.zeros((len(intervals), len(seeds)), dtype=np.int32),columns=seeds,index=intervals)\n",
    "tableRsq = pd.DataFrame(np.zeros((len(intervals), len(seeds)), dtype=np.int32),columns=seeds,index=intervals)\n",
    "tableMSE = pd.DataFrame(np.zeros((len(intervals), len(seeds)), dtype=np.int32),columns=seeds,index=intervals)\n",
    "\n",
    "\n",
    "arrays = [amsterdamZones['gem_id'].append(pd.Series(0)),amsterdamZones['mzr_id'].append(pd.Series(0))]\n",
    "tuples = sorted(list(zip(*arrays)))\n",
    "tuples.sort(key = lambda x: x[1])\n",
    "index = pd.MultiIndex.from_tuples(tuples, names=['gem_id','mzr_id'])\n",
    "\n",
    "\n",
    "\n",
    "with open(\"{a}OD(06-30_09-30).pickle\".format(a=savingLoc), 'rb') as handle:\n",
    "    GTOD = pickle.load(handle)\n",
    "GTOD = GTOD.sort_index(axis = 1)\n",
    "GTOD = GTOD.sort_index(axis = 0)\n",
    "GTOD = pd.DataFrame(GTOD.values, index=index, columns=index) #totaltrip num = 730\n",
    "\n",
    "\n",
    "# GTOD.values[[np.arange(GTOD.shape[0])]*2] = 0"
   ]
  }
 ],
 "metadata": {
  "kernelspec": {
   "display_name": "Python 3 (ipykernel)",
   "language": "python",
   "name": "python3"
  },
  "language_info": {
   "codemirror_mode": {
    "name": "ipython",
    "version": 3
   },
   "file_extension": ".py",
   "mimetype": "text/x-python",
   "name": "python",
   "nbconvert_exporter": "python",
   "pygments_lexer": "ipython3",
   "version": "3.8.11"
  }
 },
 "nbformat": 4,
 "nbformat_minor": 5
}
