{
 "cells": [
  {
   "cell_type": "markdown",
   "id": "94e131fc",
   "metadata": {},
   "source": [
    "# Data Cleaning and Preprocessing "
   ]
  },
  {
   "cell_type": "markdown",
   "id": "67c66fd7",
   "metadata": {},
   "source": [
    "#### adding required packages"
   ]
  },
  {
   "cell_type": "code",
   "execution_count": 18,
   "id": "8c86303e",
   "metadata": {},
   "outputs": [],
   "source": [
    "import time\n",
    "import pandas as pd\n",
    "import numpy as np\n",
    "import xmltodict"
   ]
  },
  {
   "cell_type": "markdown",
   "id": "d381cd96",
   "metadata": {},
   "source": [
    "### keeping allowed users from the MATSim files"
   ]
  },
  {
   "cell_type": "markdown",
   "id": "ba071859",
   "metadata": {},
   "source": [
    "In this step we use the `1.experienced_plans.xml` and `snapShot.CSV` file in the MATsim output folder. We would like to only keep the users with the `car` mode. Furthermore, we remove users with zero duration activities. The users we keep are the same in both of the mentioned files. Finally, after this data cleaning we end up with about 21,000 users. "
   ]
  },
  {
   "cell_type": "markdown",
   "id": "68d5cc35",
   "metadata": {},
   "source": [
    "#### reading `1.experienced_plans.xml` and converting it to a dataframe:"
   ]
  },
  {
   "cell_type": "code",
   "execution_count": 24,
   "id": "ffc60a1f",
   "metadata": {},
   "outputs": [
    {
     "name": "stdout",
     "output_type": "stream",
     "text": [
      "263.1187858581543 seconds\n"
     ]
    }
   ],
   "source": [
    "#we time the process\n",
    "startTime = time.time()\n",
    "\n",
    "# reading the MATSim output into a dict file\n",
    "tree = xmltodict.parse(open(\"D:/ax/gis/input_base/1.experienced_plans.xml\",\"rb\"))\n",
    "# tree = xmltodict.parse(open(\"/data/zahraeftekhar/research_temporal/input_base/1.experienced_plans.xml\",\"rb\"))\n",
    "\n",
    "# root is a list of plans of the users \n",
    "root = tree['population']['person'] \n",
    "\n",
    "del tree\n",
    "print(time.time() - startTime,'seconds')"
   ]
  },
  {
   "cell_type": "markdown",
   "id": "b6dc7b5e",
   "metadata": {},
   "source": [
    "#### keeping only users with the `car` mode and removing users with unacceptable travel diary:"
   ]
  },
  {
   "cell_type": "markdown",
   "id": "7aa60dfc",
   "metadata": {},
   "source": [
    "Here, we want to extract the user IDs that need to be removed them from our data set. This includes the users with non-positive activity durations, users with less than three activities which show no travel, etc. Also we only consider users with the mode `car`. "
   ]
  },
  {
   "cell_type": "code",
   "execution_count": 26,
   "id": "d0550d50",
   "metadata": {},
   "outputs": [
    {
     "name": "stdout",
     "output_type": "stream",
     "text": [
      "3.3839805126190186 seconds\n"
     ]
    }
   ],
   "source": [
    "#we time the process\n",
    "startTime = time.time()\n",
    "\n",
    "RemoveIDs = []\n",
    "for child in root:\n",
    "    try:\n",
    "        # remove IDs that did not travel\n",
    "        if len(child[\"plan\"][\"activity\"])<3:\n",
    "            RemoveIDs += [child['@id']]\n",
    "\n",
    "        # remove IDs that used any mode other than `car`\n",
    "        elif not all(flag[\"@mode\"] == \"car\" for flag in child['plan']['leg']):\n",
    "            RemoveIDs += [child['@id']]\n",
    "\n",
    "        # remove IDs that their 1st and last activity are not similar\n",
    "        # this is done to be able to have a round travel diary\n",
    "        elif child[\"plan\"][\"activity\"][0][\"@type\"]!=child[\"plan\"][\"activity\"][-1][\"@type\"]:\n",
    "            RemoveIDs += [child['@id']]\n",
    "\n",
    "        # remove IDs with zero duration activities:\n",
    "        # 1) removing `generic`legs because they usually lead to zero duration activities\n",
    "        elif not all(flag['route']['@type'] != 'generic' for flag in child['plan']['leg']):\n",
    "            RemoveIDs += [child['@id']]\n",
    "\n",
    "        # 2) remove the rest of IDs with zero or negative duration activities\n",
    "        elif not all((pd.to_timedelta(flag['@end_time'])).total_seconds() -\n",
    "                     (pd.to_timedelta(flag['@start_time'])).total_seconds() > 0\n",
    "                     for flag in child['plan']['activity'][1:-1]):\n",
    "            RemoveIDs += [child['@id']]\n",
    "    except KeyError:\n",
    "        RemoveIDs += [child['@id']]\n",
    "print(time.time() - startTime,'seconds')"
   ]
  },
  {
   "cell_type": "markdown",
   "id": "1bf3fb1f",
   "metadata": {},
   "source": []
  },
  {
   "cell_type": "code",
   "execution_count": 58,
   "id": "1f79b4b0",
   "metadata": {},
   "outputs": [
    {
     "name": "stdout",
     "output_type": "stream",
     "text": [
      "22208\n"
     ]
    },
    {
     "data": {
      "text/html": [
       "<div>\n",
       "<style scoped>\n",
       "    .dataframe tbody tr th:only-of-type {\n",
       "        vertical-align: middle;\n",
       "    }\n",
       "\n",
       "    .dataframe tbody tr th {\n",
       "        vertical-align: top;\n",
       "    }\n",
       "\n",
       "    .dataframe thead th {\n",
       "        text-align: right;\n",
       "    }\n",
       "</style>\n",
       "<table border=\"1\" class=\"dataframe\">\n",
       "  <thead>\n",
       "    <tr style=\"text-align: right;\">\n",
       "      <th></th>\n",
       "      <th>plan</th>\n",
       "    </tr>\n",
       "    <tr>\n",
       "      <th>id</th>\n",
       "      <th></th>\n",
       "    </tr>\n",
       "  </thead>\n",
       "  <tbody>\n",
       "    <tr>\n",
       "      <td>1</td>\n",
       "      <td>{'@score': '103.65231197449688', '@selected': ...</td>\n",
       "    </tr>\n",
       "    <tr>\n",
       "      <td>10</td>\n",
       "      <td>{'@score': '101.84174881258225', '@selected': ...</td>\n",
       "    </tr>\n",
       "    <tr>\n",
       "      <td>100007</td>\n",
       "      <td>{'@score': '105.56505677006494', '@selected': ...</td>\n",
       "    </tr>\n",
       "    <tr>\n",
       "      <td>100009</td>\n",
       "      <td>{'@score': '104.99507686427171', '@selected': ...</td>\n",
       "    </tr>\n",
       "    <tr>\n",
       "      <td>10001</td>\n",
       "      <td>{'@score': '105.92977435468114', '@selected': ...</td>\n",
       "    </tr>\n",
       "  </tbody>\n",
       "</table>\n",
       "</div>"
      ],
      "text/plain": [
       "                                                     plan\n",
       "id                                                       \n",
       "1       {'@score': '103.65231197449688', '@selected': ...\n",
       "10      {'@score': '101.84174881258225', '@selected': ...\n",
       "100007  {'@score': '105.56505677006494', '@selected': ...\n",
       "100009  {'@score': '104.99507686427171', '@selected': ...\n",
       "10001   {'@score': '105.92977435468114', '@selected': ..."
      ]
     },
     "execution_count": 58,
     "metadata": {},
     "output_type": "execute_result"
    }
   ],
   "source": [
    "# number of users after data cleaning\n",
    "print(len(root)-len(RemoveIDs))\n",
    "cleanedData = pd.DataFrame.from_dict(root)\n",
    "cleanedData.columns = ['id', 'plan']\n",
    "cleanedData.set_index('id',inplace=True) \n",
    "cleanedData.drop(RemoveIDs, inplace=True)\n",
    "cleanedData.head()"
   ]
  }
 ],
 "metadata": {
  "kernelspec": {
   "display_name": "Python 3",
   "language": "python",
   "name": "python3"
  },
  "language_info": {
   "codemirror_mode": {
    "name": "ipython",
    "version": 3
   },
   "file_extension": ".py",
   "mimetype": "text/x-python",
   "name": "python",
   "nbconvert_exporter": "python",
   "pygments_lexer": "ipython3",
   "version": "3.7.4"
  }
 },
 "nbformat": 4,
 "nbformat_minor": 5
}
