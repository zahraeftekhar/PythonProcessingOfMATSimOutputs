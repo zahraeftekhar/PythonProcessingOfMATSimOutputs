{
 "cells": [
  {
   "cell_type": "markdown",
   "id": "73a66fec",
   "metadata": {},
   "source": [
    "# Data Cleaning and Preprocessing "
   ]
  },
  {
   "cell_type": "markdown",
   "id": "3e3da493",
   "metadata": {},
   "source": [
    "#### adding required packages"
   ]
  },
  {
   "cell_type": "code",
   "execution_count": 4,
   "id": "e2607996",
   "metadata": {},
   "outputs": [],
   "source": [
    "# import xml.etree.ElementTree as ET\n",
    "import time\n",
    "import pandas as pd\n",
    "import numpy as np\n",
    "import xmltodict"
   ]
  },
  {
   "cell_type": "markdown",
   "id": "6d069ab0",
   "metadata": {},
   "source": [
    "### keeping allowed users from the MATSim files"
   ]
  },
  {
   "cell_type": "markdown",
   "id": "d2696bf0",
   "metadata": {},
   "source": [
    "In this step we use the `1.experienced_plans.xml` and `snapShot.CSV` file in the MATsim output folder. We would like to only keep the users with the `car` mode. Furthermore, we remove users with zero duration activities. The users we keep are the same in both of the mentioned files. Finally, after this data cleaning we end up with about 21,000 users. "
   ]
  },
  {
   "cell_type": "markdown",
   "id": "df8a6857",
   "metadata": {},
   "source": [
    "#### reading `1.experienced_plans.xml` and converting it to a dataframe:"
   ]
  },
  {
   "cell_type": "code",
   "execution_count": null,
   "id": "0228a036",
   "metadata": {},
   "outputs": [],
   "source": [
    "#we time the process\n",
    "startTime = time.time()\n",
    "\n",
    "# reading the MATSim output into a dict file\n",
    "tree = xmltodict.parse(open(\"D:/ax/gis/input_base/1.experienced_plans.xml\",\"rb\"))\n",
    "# tree = xmltodict.parse(open(\"/data/zahraeftekhar/research_temporal/input_base/1.experienced_plans.xml\",\"rb\"))\n",
    "\n",
    "# root is a list of plans of the users \n",
    "root = tree['population']['person'] "
   ]
  },
  {
   "cell_type": "markdown",
   "id": "14a896e9",
   "metadata": {},
   "source": [
    "#### keeping only users with the `car` mode:"
   ]
  },
  {
   "cell_type": "code",
   "execution_count": null,
   "id": "f408f456",
   "metadata": {},
   "outputs": [],
   "source": [
    "#extracting user IDs that needs to be removed from the data\n",
    "RemoveIDs = [(int)]\n",
    "for child in root:\n",
    "    aa = len(child['plan']['leg'])\n",
    "    ID2 = [int(child['@id'])]\n",
    "    if all(flag[\"@mode\"]==\"car\" for flag in child['plan']['leg'])==False:\n",
    "        RemoveIDs += [ID2]"
   ]
  }
 ],
 "metadata": {
  "kernelspec": {
   "display_name": "Python 3",
   "language": "python",
   "name": "python3"
  },
  "language_info": {
   "codemirror_mode": {
    "name": "ipython",
    "version": 3
   },
   "file_extension": ".py",
   "mimetype": "text/x-python",
   "name": "python",
   "nbconvert_exporter": "python",
   "pygments_lexer": "ipython3",
   "version": "3.7.4"
  }
 },
 "nbformat": 4,
 "nbformat_minor": 5
}
